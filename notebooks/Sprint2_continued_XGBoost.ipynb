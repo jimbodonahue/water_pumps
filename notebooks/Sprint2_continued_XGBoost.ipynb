{
 "cells": [
  {
   "cell_type": "code",
   "execution_count": 1,
   "id": "e0a81d3e-a3cf-487d-bf0e-763f54a1ebaf",
   "metadata": {},
   "outputs": [],
   "source": [
    "import pandas as pd\n",
    "import numpy as np\n",
    "import os\n",
    "import matplotlib.pyplot as plt\n",
    "import seaborn as sns\n",
    "from sklearn.model_selection import cross_val_score\n",
    "from sklearn.preprocessing import LabelEncoder\n",
    "from sklearn.preprocessing import StandardScaler\n",
    "from sklearn.pipeline import Pipeline\n",
    "from sklearn.model_selection import GridSearchCV\n",
    "from sklearn.linear_model import LogisticRegression\n",
    "from sklearn.model_selection import train_test_split\n",
    "from sklearn.metrics import classification_report, confusion_matrix\n",
    "import joblib"
   ]
  },
  {
   "cell_type": "code",
   "execution_count": 3,
   "id": "3399b237-a785-4b98-876c-8cdbd9b10a25",
   "metadata": {},
   "outputs": [],
   "source": [
    "current_dir = os.getcwd()\n",
    "parent_dir = os.path.dirname(current_dir)\n",
    "data_path = os.path.join(parent_dir, 'data')\n",
    "out_path = os.path.join(parent_dir, 'outputs')     # For the output"
   ]
  },
  {
   "cell_type": "code",
   "execution_count": 4,
   "id": "65673d61-aefc-4316-a239-919d4a7d2e1a",
   "metadata": {},
   "outputs": [],
   "source": [
    "# optimisation of hyperparameter\n",
    "\n",
    "# Read the files\n",
    "train = pd.read_csv(os.path.join(data_path, 'final_data.csv'))\n",
    "labels = pd.read_csv(os.path.join(data_path, 'train_labels.csv'))\n",
    "\n",
    "# Drop status_group if it already exists in train\n",
    "if 'status_group' in train.columns:\n",
    "    train = train.drop(columns=['status_group'])\n",
    "    \n",
    "# Merge training labels\n",
    "df = pd.merge(train, labels, on='id')\n",
    "\n",
    "# Encode target labels\n",
    "le = LabelEncoder()\n",
    "y_encoded = le.fit_transform(df['status_group']) \n",
    "\n",
    "leak_cols = [col for col in df.columns if 'status_group_' in col or 'status_group.' in col]\n",
    "df_encoded = df.drop(columns=leak_cols)\n",
    "\n",
    "# Define features and target\n",
    "X = df_encoded.drop(columns=['status_group','id'])\n",
    "y = y_encoded\n",
    "X_encoded = pd.get_dummies(X, drop_first=True)\n",
    "\n",
    "X_train, X_test, y_train, y_test = train_test_split(\n",
    "    X_encoded, y, test_size=0.2, stratify=y, random_state=42\n",
    ")"
   ]
  },
  {
   "cell_type": "code",
   "execution_count": 5,
   "id": "181d5a85-4df1-49fb-b6dd-eb729afd630e",
   "metadata": {},
   "outputs": [],
   "source": [
    "X_train = X_train.apply(pd.to_numeric)\n",
    "X_test = X_test.apply(pd.to_numeric)"
   ]
  },
  {
   "cell_type": "code",
   "execution_count": 6,
   "id": "d4751ec6-16da-4f9b-a7f2-4eb05600564e",
   "metadata": {},
   "outputs": [],
   "source": [
    "# Convert all boolean columns to integers (0 and 1)\n",
    "X_train = X_train.astype({col: 'int' for col in X_train.select_dtypes(include='bool').columns})\n",
    "X_test = X_test.astype({col: 'int' for col in X_test.select_dtypes(include='bool').columns})\n"
   ]
  },
  {
   "cell_type": "code",
   "execution_count": 7,
   "id": "5c8ad181-0006-404b-bc1a-36fcb8b7b3a3",
   "metadata": {},
   "outputs": [
    {
     "name": "stdout",
     "output_type": "stream",
     "text": [
      "Fitting 3 folds for each of 72 candidates, totalling 216 fits\n"
     ]
    }
   ],
   "source": [
    "from xgboost import XGBClassifier\n",
    "\n",
    "param_grid = {\n",
    "    'max_depth': [4, 6, 8],\n",
    "    'learning_rate': [0.01, 0.1, 0.2],\n",
    "    'n_estimators': [100, 200],\n",
    "    'subsample': [0.8, 1.0],\n",
    "    'colsample_bytree': [0.8, 1.0]\n",
    "}\n",
    "\n",
    "grid_search = GridSearchCV(\n",
    "    estimator=XGBClassifier(objective='multi:softprob', eval_metric='mlogloss', num_class=3),\n",
    "    param_grid=param_grid,\n",
    "    scoring='f1_macro',\n",
    "    cv=3,\n",
    "    n_jobs=-1,\n",
    "    verbose=1\n",
    ")\n",
    "\n",
    "grid_search.fit(X_train, y_train)\n",
    "best_model = grid_search.best_estimator_"
   ]
  },
  {
   "cell_type": "markdown",
   "id": "126a75fb-506c-4102-90a7-202ab5abdc1a",
   "metadata": {},
   "source": [
    "#### Retrain on Full Dataset"
   ]
  },
  {
   "cell_type": "code",
   "execution_count": null,
   "id": "dbb478af-06c2-4f98-a08f-11b7ff57320d",
   "metadata": {},
   "outputs": [],
   "source": [
    "X_full = pd.concat([X_train, X_test])\n",
    "y_full = pd.concat([y_train, y_test])\n",
    "\n",
    "final_model = XGBClassifier(**grid_search.best_params_,\n",
    "                            objective='multi:softprob',\n",
    "                            eval_metric='mlogloss',\n",
    "                            num_class=3)\n",
    "final_model.fit(X_full, y_full)"
   ]
  }
 ],
 "metadata": {
  "kernelspec": {
   "display_name": "Python (water_pumps)",
   "language": "python",
   "name": "water_pumps"
  },
  "language_info": {
   "codemirror_mode": {
    "name": "ipython",
    "version": 3
   },
   "file_extension": ".py",
   "mimetype": "text/x-python",
   "name": "python",
   "nbconvert_exporter": "python",
   "pygments_lexer": "ipython3",
   "version": "3.10.0"
  }
 },
 "nbformat": 4,
 "nbformat_minor": 5
}
