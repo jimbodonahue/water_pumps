{
 "cells": [
  {
   "cell_type": "markdown",
   "id": "79f70224-f62d-4022-b3cb-91452db78260",
   "metadata": {},
   "source": [
    "### Comparation of 3 base models\n"
   ]
  },
  {
   "cell_type": "code",
   "execution_count": 1,
   "id": "fb71c29a-1733-4dd9-9c4f-a084ac8ebe37",
   "metadata": {},
   "outputs": [],
   "source": [
    "import pandas as pd\n",
    "import numpy as np\n",
    "import os\n",
    "import matplotlib.pyplot as plt\n",
    "import seaborn as sns\n",
    "from sklearn.model_selection import cross_val_score\n",
    "from sklearn.preprocessing import LabelEncoder\n",
    "from sklearn.preprocessing import MinMaxScaler\n",
    "from sklearn.pipeline import Pipeline\n",
    "from sklearn.model_selection import GridSearchCV\n",
    "from sklearn.linear_model import LogisticRegression\n",
    "from sklearn.model_selection import train_test_split\n",
    "from sklearn.metrics import classification_report, confusion_matrix\n",
    "import joblib\n"
   ]
  },
  {
   "cell_type": "code",
   "execution_count": 2,
   "id": "387d865d",
   "metadata": {},
   "outputs": [
    {
     "name": "stdout",
     "output_type": "stream",
     "text": [
      "ready for piping\n"
     ]
    }
   ],
   "source": [
    "# run this cell to initiate the function, then the pipeline *should* run smoothly\n",
    "from sklearn.preprocessing import FunctionTransformer\n",
    "\n",
    "def clean_func(df):\n",
    "    #\n",
    "    import warnings # too lazy to fix this\n",
    "    warnings.filterwarnings(\"ignore\", message=\"Mean of empty slice\")\n",
    "    # Construction year\n",
    "    df['construction_year'] = df['construction_year'].replace(0, np.nan)\n",
    "    # Impute using region + installer\n",
    "    df['construction_year'] = df.groupby(['region', 'installer'])['construction_year'].transform(\n",
    "        lambda x: x.fillna(x.median())\n",
    "    )\n",
    "    #Impute using region only (for rows still missing)\n",
    "    df['construction_year'] = df.groupby('region')['construction_year'].transform(\n",
    "        lambda x: x.fillna(x.median())\n",
    "    )\n",
    "    #Use recorded year - 13\n",
    "    df['date_recorded'] = pd.to_datetime(df['date_recorded'])\n",
    "    df['recorded_year'] = df['date_recorded'].dt.year\n",
    "    df['construction_year'] = df['construction_year'].fillna(df['recorded_year'] - 13)\n",
    "    #\n",
    "    # gps_height \n",
    "    df['gps_height'] = df['gps_height'].apply(lambda x: np.nan if x <= 0 else x)\n",
    "    # Fill using median per lga\n",
    "    df['gps_height'] = df.groupby('lga')['gps_height'].fillna(df['gps_height'].median())\n",
    "    # Fill any still missing using region median\n",
    "    df['gps_height'] = df.groupby(['region'])['gps_height'].fillna(df['gps_height'].median())\n",
    "    # Longitude and latitude\n",
    "    df['longitude'] = df['longitude'].replace(0, np.nan)\n",
    "    df['latitude'] = df['latitude'].where(df['latitude'] < -0.5, np.nan) # too close to the equator\n",
    "    for i in ['latitude','longitude']: # loop to fill by lga, region\n",
    "        df[i] = df.groupby(['lga'])[i].fillna(df[i].median())\n",
    "        df[i] = df.groupby(['region'])[i].fillna(df[i].median())\n",
    "    # population\n",
    "    # Fill population using median by district_code\n",
    "    df['population'] = df.groupby('lga')['population'].transform(\n",
    "        lambda x: x.fillna(x.median())\n",
    "    )\n",
    "    # Fill any still missing with median by region, then overall median\n",
    "    df['population'] = df.groupby('region')['population'].transform(\n",
    "        lambda x: x.fillna(x.median())\n",
    "    )\n",
    "    df['population'] = df['population'].fillna(df.population.median)\n",
    "    # Bin the outcome, see how it behaves\n",
    "    df['population'] = pd.cut(df['population'], [-1,1,25,90,160,260,9999999], labels=[0,0.2,0.3,0.4,0.6,1])\n",
    "    df['population'] = df['population'].astype(float)\n",
    "    #\n",
    "    # amount_tsh\n",
    "    df['amount_tsh'] = df['amount_tsh'].apply(lambda x: min(x, 15000))\n",
    "    df['amount_tsh'] = df['amount_tsh'].apply(lambda x: np.power(x,0.3))\n",
    "        ### Encode categorical variables\n",
    "    # Encode 'quantity' (and typo fix: 'insufficent' -> 'insufficient')\n",
    "    df['quantity'] = df['quantity'].replace({\n",
    "        'enough': 1,\n",
    "        'seasonal': 0.6,\n",
    "        'insufficient': 0.4,\n",
    "        'dry': 0,\n",
    "        'unknown': 0\n",
    "    })\n",
    "    df.quantity = pd.to_numeric(df.quantity, errors='coerce')\n",
    "\n",
    "    # Encode 'water_quality' as binary: good = 1, else 0\n",
    "    df['water_quality'] = np.where(df['water_quality'] == 'soft', 1, 0)\n",
    "    # Encode 'waterpoint_type' (1 = preferred type, 0 = everything else)\n",
    "    preferred_waterpoint = ['communal standpipe multiple', 'communal standpipe']\n",
    "    df['waterpoint_type'] = df['waterpoint_type'].apply(lambda x: 1 if x in preferred_waterpoint else 0)\n",
    "    # Encode 'permit' as binary: True = 1, False, missing = 0\n",
    "    df['permit'] = np.where(df['permit'] == 'True', 1, 0)\n",
    "    # Encode 'payment' as binary: never pay = 0, else = 1\n",
    "    df['payment'] = np.where(df['payment'] == 'never pay', 0, 1)\n",
    "    # Encode 'source' (1 = preferred sources, 0 = everything else)\n",
    "    preferred_sources = ['spring', 'river', 'rainwater harvesting']\n",
    "    df['source'] = df['source'].apply(lambda x: 1 if x in preferred_sources else 0)\n",
    "    # Encode 'payment' as binary: never pay = 0, else = 1\n",
    "    df['extraction_type_class'] = np.where(df['extraction_type_class'] == 'gravity', 0, 1)\n",
    "    # Encode 'scheme_management' (1 = VWC, others 0)\n",
    "    df['scheme_management'] = np.where(df['scheme_management'] == 'VWC', 0, 1)\n",
    "    # one hot encoder for basin \n",
    "    df = pd.get_dummies(data=df, columns=['basin'], drop_first=True, dtype=int) \n",
    "    df = df.drop(columns=['id',  'date_recorded', 'funder', 'installer', 'wpt_name', 'num_private',\n",
    "       'subvillage', 'region', 'region_code', 'district_code', 'lga', 'waterpoint_type_group',\n",
    "       'ward', 'public_meeting', 'recorded_by', 'scheme_name', 'extraction_type', 'recorded_year',\n",
    "       'extraction_type_group', 'management', 'management_group', 'payment_type',\n",
    "       'quality_group', 'quantity_group', 'source_type', 'source_class'])\n",
    "    df['tshXpayment'] = df.amount_tsh * df.payment\n",
    "    df['extractXsource'] = df.extraction_type_class * df.source\n",
    "    df['popXtsh'] = df.population * df.amount_tsh\n",
    "    df['popXquant'] = df.population * df.quantity\n",
    "    df['popXsource'] = df.population * df.source\n",
    "    df['extractXheight'] = df.extraction_type_class * df.gps_height\n",
    "    df['typeXsource'] = df.waterpoint_type * df.source\n",
    "    df['typeXyear'] = df.waterpoint_type * df.construction_year\n",
    "    df['yearXpop'] = df.construction_year * df.population\n",
    "    df['quantXsource'] = df.quantity * df.source\n",
    "    df['yearsq'] = np.sqrt(df.construction_year + 1)\n",
    "    \n",
    "    return df\n",
    "\n",
    "\n",
    "print('ready for piping')\n",
    "\n",
    "my_transformer = FunctionTransformer(clean_func) # still can't get this to work in the pipeline with the clf gris search\n",
    "\n",
    "\n",
    "import warnings\n",
    "warnings.filterwarnings(\"ignore\", message=\"Mean of empty slice\")"
   ]
  },
  {
   "cell_type": "code",
   "execution_count": 4,
   "id": "bd38826a",
   "metadata": {},
   "outputs": [
    {
     "name": "stderr",
     "output_type": "stream",
     "text": [
      "/tmp/ipykernel_10556/3981372757.py:26: FutureWarning: SeriesGroupBy.fillna is deprecated and will be removed in a future version. Use obj.ffill() or obj.bfill() for forward or backward filling instead. If you want to fill with a single value, use Series.fillna instead\n",
      "  df['gps_height'] = df.groupby('lga')['gps_height'].fillna(df['gps_height'].median())\n",
      "/tmp/ipykernel_10556/3981372757.py:28: FutureWarning: SeriesGroupBy.fillna is deprecated and will be removed in a future version. Use obj.ffill() or obj.bfill() for forward or backward filling instead. If you want to fill with a single value, use Series.fillna instead\n",
      "  df['gps_height'] = df.groupby(['region'])['gps_height'].fillna(df['gps_height'].median())\n",
      "/tmp/ipykernel_10556/3981372757.py:33: FutureWarning: SeriesGroupBy.fillna is deprecated and will be removed in a future version. Use obj.ffill() or obj.bfill() for forward or backward filling instead. If you want to fill with a single value, use Series.fillna instead\n",
      "  df[i] = df.groupby(['lga'])[i].fillna(df[i].median())\n",
      "/tmp/ipykernel_10556/3981372757.py:34: FutureWarning: SeriesGroupBy.fillna is deprecated and will be removed in a future version. Use obj.ffill() or obj.bfill() for forward or backward filling instead. If you want to fill with a single value, use Series.fillna instead\n",
      "  df[i] = df.groupby(['region'])[i].fillna(df[i].median())\n",
      "/tmp/ipykernel_10556/3981372757.py:33: FutureWarning: SeriesGroupBy.fillna is deprecated and will be removed in a future version. Use obj.ffill() or obj.bfill() for forward or backward filling instead. If you want to fill with a single value, use Series.fillna instead\n",
      "  df[i] = df.groupby(['lga'])[i].fillna(df[i].median())\n",
      "/tmp/ipykernel_10556/3981372757.py:34: FutureWarning: SeriesGroupBy.fillna is deprecated and will be removed in a future version. Use obj.ffill() or obj.bfill() for forward or backward filling instead. If you want to fill with a single value, use Series.fillna instead\n",
      "  df[i] = df.groupby(['region'])[i].fillna(df[i].median())\n",
      "/tmp/ipykernel_10556/3981372757.py:54: FutureWarning: Downcasting behavior in `replace` is deprecated and will be removed in a future version. To retain the old behavior, explicitly call `result.infer_objects(copy=False)`. To opt-in to the future behavior, set `pd.set_option('future.no_silent_downcasting', True)`\n",
      "  df['quantity'] = df['quantity'].replace({\n"
     ]
    }
   ],
   "source": [
    "# set paths\n",
    "current_dir = os.getcwd()\n",
    "parent_dir = os.path.dirname(current_dir)\n",
    "data_path = os.path.join(parent_dir, 'data')\n",
    "out_path = os.path.join(parent_dir, 'outputs')\n",
    "\n",
    "# Read the files\n",
    "le = LabelEncoder()\n",
    "train = pd.read_csv(os.path.join(data_path, 'train.csv'))\n",
    "labels = pd.read_csv(os.path.join(data_path, 'train_labels.csv')) \n",
    "y = le.fit_transform(labels['status_group']) \n",
    "\n",
    "# for now, cleaning and scaling before the pipeline\n",
    "scaler = MinMaxScaler()\n",
    "cleaned_X = clean_func(train)\n",
    "model = scaler.fit(cleaned_X)\n",
    "X = model.transform(cleaned_X)\n",
    "\n",
    "\n",
    "# scale features\n",
    "#scaler = MinMaxScaler()\n",
    "#model=scaler.fit(data)\n",
    "#scaled_data=model.transform(data)\n",
    "\n",
    "# Define features and target = y_encoded\n",
    "X_train, X_test, y_train, y_test = train_test_split(\n",
    "    X, y, test_size=0.3, stratify=y, random_state=42\n",
    ")\n"
   ]
  },
  {
   "cell_type": "code",
   "execution_count": null,
   "id": "9d1f30c6-558f-4fa8-ab47-1856a14c09c1",
   "metadata": {},
   "outputs": [],
   "source": []
  },
  {
   "cell_type": "code",
   "execution_count": 12,
   "id": "f394d355",
   "metadata": {
    "scrolled": true
   },
   "outputs": [
    {
     "name": "stdout",
     "output_type": "stream",
     "text": [
      "Fitting 5 folds for each of 288 candidates, totalling 1440 fits\n",
      "0.8709819607829135\n",
      "{'eval_metric': 'auc', 'gamma': 0, 'learning_rate': 0.3, 'max_delta_step': 1, 'max_depth': 8, 'min_child_weight': 1, 'nthread': -1, 'num_class': 3, 'objective': 'multiclass'}\n",
      " Type: <class 'sklearn.model_selection._search.GridSearchCV'>\n",
      " Best Estimator: XGBClassifier(base_score=None, booster=None, callbacks=None,\n",
      "              colsample_bylevel=None, colsample_bynode=None,\n",
      "              colsample_bytree=None, device=None, early_stopping_rounds=None,\n",
      "              enable_categorical=False, eval_metric='auc', feature_types=None,\n",
      "              feature_weights=None, gamma=0, grow_policy=None,\n",
      "              importance_type=None, interaction_constraints=None,\n",
      "              learning_rate=0.3, max_bin=None, max_cat_threshold=None,\n",
      "              max_cat_to_onehot=None, max_delta_step=1, max_depth=8,\n",
      "              max_leaves=None, min_child_weight=1, missing=nan,\n",
      "              monotone_constraints=None, multi_strategy=None, n_estimators=None,\n",
      "              n_jobs=None, nthread=-1, ...)\n"
     ]
    }
   ],
   "source": [
    "# the big show - I'd like to play more with parameters, but I think we're out of time\n",
    "\n",
    "from xgboost import XGBClassifier \n",
    "xgboost = XGBClassifier(objective='multi:softprob', eval_metric='auc', num_class=3)\n",
    "\n",
    "\n",
    "\n",
    "my_transformer = FunctionTransformer(clean_func)\n",
    "\n",
    "clf = GridSearchCV(\n",
    "    xgboost,\n",
    "    {'objective': ['multiclass'],\n",
    "    'eval_metric': ['auc'], \n",
    "    'nthread': [-1],\n",
    "    'min_child_weight': [0.5, 0.75, 1, 1.5],\n",
    "    'num_class': [3],\n",
    "    'gamma': [0, 0.15, 0.3, 0.5], # gamma\n",
    "    'max_delta_step': [0.5, 0.75, 1], \n",
    "    'learning_rate': [0.3, 0.35, 0.4], # eta\n",
    "    'max_depth': [7,  8],\n",
    "#    'n_estimators': [100, 200],\n",
    "#    'subsample': [0.8, 1.0],\n",
    "#    'colsample_bytree': [0.8, 1.0]\n",
    "    },\n",
    "    verbose=1,\n",
    "    n_jobs=-1,\n",
    "    cv=5,\n",
    "    scoring='roc_auc_ovr',\n",
    ") \n",
    "\n",
    "# Grid search\n",
    "#grid_search = GridSearchCV(pipeline, param_grid, cv=3, scoring='accuracy')\n",
    "clf.fit(X_train, y_train)\n",
    "print(clf.best_score_)\n",
    "print(clf.best_params_)\n",
    "\n",
    "\n",
    "best_model = clf.best_estimator_\n",
    "\n",
    "\n",
    "\n",
    "# Check best_estimator_\n",
    "print(\" Type:\", type(clf))\n",
    "print(\" Best Estimator:\", clf.best_estimator_)\n",
    "\n",
    "\n"
   ]
  },
  {
   "cell_type": "code",
   "execution_count": 13,
   "id": "fc073052-133b-4598-ac83-2793c6abdce3",
   "metadata": {},
   "outputs": [
    {
     "name": "stdout",
     "output_type": "stream",
     "text": [
      " Type: <class 'sklearn.model_selection._search.GridSearchCV'>\n",
      " Best Estimator: XGBClassifier(base_score=None, booster=None, callbacks=None,\n",
      "              colsample_bylevel=None, colsample_bynode=None,\n",
      "              colsample_bytree=None, device=None, early_stopping_rounds=None,\n",
      "              enable_categorical=False, eval_metric='auc', feature_types=None,\n",
      "              feature_weights=None, gamma=0, grow_policy=None,\n",
      "              importance_type=None, interaction_constraints=None,\n",
      "              learning_rate=0.3, max_bin=None, max_cat_threshold=None,\n",
      "              max_cat_to_onehot=None, max_delta_step=1, max_depth=8,\n",
      "              max_leaves=None, min_child_weight=1, missing=nan,\n",
      "              monotone_constraints=None, multi_strategy=None, n_estimators=None,\n",
      "              n_jobs=None, nthread=-1, ...)\n",
      " Classification Report on Test Set:\n",
      "                         precision    recall  f1-score   support\n",
      "\n",
      "             functional       0.77      0.88      0.82      9678\n",
      "functional needs repair       0.55      0.26      0.35      1295\n",
      "         non functional       0.81      0.74      0.77      6847\n",
      "\n",
      "               accuracy                           0.78     17820\n",
      "              macro avg       0.71      0.62      0.65     17820\n",
      "           weighted avg       0.77      0.78      0.77     17820\n",
      "\n",
      " Confusion Matrix:\n",
      "[[8481  191 1006]\n",
      " [ 761  335  199]\n",
      " [1710   84 5053]]\n"
     ]
    }
   ],
   "source": [
    " \n",
    "# Check best_estimator_\n",
    "print(\" Type:\", type(clf))\n",
    "print(\" Best Estimator:\", clf.best_estimator_)\n",
    "\n",
    "# Evaluate on X_test\n",
    "y_pred = clf.predict(X_test)\n",
    "print(\" Classification Report on Test Set:\")\n",
    "print(classification_report(y_test, y_pred, target_names=le.classes_))\n",
    "\n",
    "print(\" Confusion Matrix:\")\n",
    "print(confusion_matrix(y_test, y_pred))"
   ]
  },
  {
   "cell_type": "code",
   "execution_count": 54,
   "id": "80c5cef2-9ff6-46a9-8eaa-f8ca08e48deb",
   "metadata": {},
   "outputs": [
    {
     "name": "stdout",
     "output_type": "stream",
     "text": [
      " Type: <class 'sklearn.model_selection._search.GridSearchCV'>\n",
      " Best Estimator: XGBClassifier(base_score=None, booster=None, callbacks=None,\n",
      "              colsample_bylevel=None, colsample_bynode=None,\n",
      "              colsample_bytree=None, device=None, early_stopping_rounds=None,\n",
      "              enable_categorical=False, eval_metric='mlogloss',\n",
      "              feature_types=None, feature_weights=None, gamma=0,\n",
      "              grow_policy=None, importance_type=None,\n",
      "              interaction_constraints=None, learning_rate=0.3, max_bin=None,\n",
      "              max_cat_threshold=None, max_cat_to_onehot=None, max_delta_step=1,\n",
      "              max_depth=8, max_leaves=None, min_child_weight=None, missing=nan,\n",
      "              monotone_constraints=None, multi_strategy=None, n_estimators=None,\n",
      "              n_jobs=None, num_class=3, ...)\n",
      " Classification Report on Test Set:\n",
      "                         precision    recall  f1-score   support\n",
      "\n",
      "             functional       0.77      0.88      0.82      9678\n",
      "functional needs repair       0.55      0.25      0.34      1295\n",
      "         non functional       0.81      0.73      0.77      6847\n",
      "\n",
      "               accuracy                           0.78     17820\n",
      "              macro avg       0.71      0.62      0.64     17820\n",
      "           weighted avg       0.77      0.78      0.77     17820\n",
      "\n",
      " Confusion Matrix:\n",
      "[[8524  186  968]\n",
      " [ 775  322  198]\n",
      " [1763   75 5009]]\n"
     ]
    }
   ],
   "source": [
    " \n",
    "# Check best_estimator_\n",
    "print(\" Type:\", type(clf))\n",
    "print(\" Best Estimator:\", clf.best_estimator_)\n",
    "\n",
    "# Evaluate on X_test\n",
    "y_pred = clf.predict(X_test)\n",
    "print(\" Classification Report on Test Set:\")\n",
    "print(classification_report(y_test, y_pred, target_names=le.classes_))\n",
    "\n",
    "print(\" Confusion Matrix:\")\n",
    "print(confusion_matrix(y_test, y_pred))\n"
   ]
  },
  {
   "cell_type": "code",
   "execution_count": null,
   "id": "b28ae8eb",
   "metadata": {},
   "outputs": [],
   "source": []
  },
  {
   "cell_type": "code",
   "execution_count": 17,
   "id": "d5bec11e",
   "metadata": {},
   "outputs": [
    {
     "name": "stdout",
     "output_type": "stream",
     "text": [
      "Best Parameters Found:\n",
      "{'eval_metric': 'auc', 'gamma': 0, 'learning_rate': 0.3, 'max_delta_step': 1, 'max_depth': 8, 'min_child_weight': 1, 'nthread': -1, 'num_class': 3, 'objective': 'multiclass'}\n"
     ]
    },
    {
     "data": {
      "image/png": "[encoded data removed]",
      "text/plain": [
       "<Figure size 600x500 with 2 Axes>"
      ]
     },
     "metadata": {},
     "output_type": "display_data"
    },
    {
     "data": {
      "text/plain": [
       "<Figure size 640x480 with 0 Axes>"
      ]
     },
     "metadata": {},
     "output_type": "display_data"
    }
   ],
   "source": [
    "# like most above, this is stolen from Fatemeh\n",
    "\n",
    "print(\"Best Parameters Found:\")\n",
    "print(clf.best_params_)\n",
    " \n",
    "\n",
    "# confusion matrix (rows=true, cols=predicted)\n",
    "cm = confusion_matrix(y_test, y_pred)\n",
    "\n",
    "plt.figure(figsize=(6, 5))\n",
    "sns.heatmap(\n",
    "    cm,\n",
    "    annot=True,\n",
    "    fmt=\"d\",\n",
    "    cmap=\"Blues\" \n",
    ")\n",
    "plt.xlabel(\"Predicted label\")\n",
    "plt.ylabel(\"True label\")\n",
    "plt.title(\"Confusion Matrix (Final XGBoost)\")\n",
    "plt.tight_layout()\n",
    "plt.show()\n",
    "\n",
    "# Save the figure\n",
    "plt.savefig(os.path.join(out_path, \"confusion_mat.png\"), dpi=300, bbox_inches='tight')\n"
   ]
  },
  {
   "cell_type": "code",
   "execution_count": 60,
   "id": "e8d6e6fe",
   "metadata": {},
   "outputs": [
    {
     "data": {
      "text/plain": [
       "(31, 1)"
      ]
     },
     "execution_count": 60,
     "metadata": {},
     "output_type": "execute_result"
    },
    {
     "data": {
      "image/png": "[encoded data removed]",
      "text/plain": [
       "<Figure size 2000x1000 with 1 Axes>"
      ]
     },
     "metadata": {},
     "output_type": "display_data"
    }
   ],
   "source": [
    "# new, stolen from substack, a bit of feature imporance. Try other importance_type options for more\n",
    "\n",
    "feature_important = clf.best_estimator_.get_booster().get_score(importance_type='gain') # gain, weight, cover, total_gain, total_cover\n",
    "keys = list(feature_important.keys())\n",
    "values = list(feature_important.values())\n",
    "df = pd.DataFrame(keys, values)\n",
    "\n",
    "\n",
    "data = pd.DataFrame(data=values, index=keys, columns=[\"score\"]).sort_values(by = \"score\", ascending=True)\n",
    "data.plot(kind='barh', figsize = (20,10))\n",
    "df.shape"
   ]
  },
  {
   "cell_type": "code",
   "execution_count": 59,
   "id": "34c57f2f-7679-42b5-be52-cd544cbef4a7",
   "metadata": {},
   "outputs": [
    {
     "data": {
      "text/plain": [
       "{'f0': 693.7815551757812,\n",
       " 'f1': 676.8141479492188,\n",
       " 'f2': 654.6181640625,\n",
       " 'f3': 859.8955688476562,\n",
       " 'f4': 58.55677795410156,\n",
       " 'f5': 428.6471862792969,\n",
       " 'f7': 626.5685424804688,\n",
       " 'f8': 550.6600341796875,\n",
       " 'f9': 573.517822265625,\n",
       " 'f10': 341.8508605957031,\n",
       " 'f11': 1085.5350341796875,\n",
       " 'f12': 136.08372497558594,\n",
       " 'f13': 95.43073272705078,\n",
       " 'f14': 3248.068359375,\n",
       " 'f15': 1417.42529296875,\n",
       " 'f16': 2024.8336181640625,\n",
       " 'f17': 1127.158447265625,\n",
       " 'f18': 1168.0091552734375,\n",
       " 'f19': 952.3704833984375,\n",
       " 'f20': 1781.90380859375,\n",
       " 'f21': 860.2152099609375,\n",
       " 'f22': 1147.992919921875,\n",
       " 'f23': 450.8579406738281,\n",
       " 'f24': 778.5966796875,\n",
       " 'f25': 268.42047119140625,\n",
       " 'f26': 284.8231506347656,\n",
       " 'f27': 753.4617309570312,\n",
       " 'f28': 637.201171875,\n",
       " 'f29': 628.5810546875,\n",
       " 'f30': 433.1194152832031,\n",
       " 'f31': 1139.547607421875}"
      ]
     },
     "execution_count": 59,
     "metadata": {},
     "output_type": "execute_result"
    }
   ],
   "source": [
    "feature_important"
   ]
  },
  {
   "cell_type": "code",
   "execution_count": 58,
   "id": "7d3a7809-0de5-45b1-9efc-d61b808339bd",
   "metadata": {},
   "outputs": [
    {
     "data": {
      "text/html": [
       "<div>\n",
       "<style scoped>\n",
       "    .dataframe tbody tr th:only-of-type {\n",
       "        vertical-align: middle;\n",
       "    }\n",
       "\n",
       "    .dataframe tbody tr th {\n",
       "        vertical-align: top;\n",
       "    }\n",
       "\n",
       "    .dataframe thead th {\n",
       "        text-align: right;\n",
       "    }\n",
       "</style>\n",
       "<table border=\"1\" class=\"dataframe\">\n",
       "  <thead>\n",
       "    <tr style=\"text-align: right;\">\n",
       "      <th></th>\n",
       "      <th>SplitValue</th>\n",
       "      <th>Count</th>\n",
       "    </tr>\n",
       "  </thead>\n",
       "  <tbody>\n",
       "  </tbody>\n",
       "</table>\n",
       "</div>"
      ],
      "text/plain": [
       "Empty DataFrame\n",
       "Columns: [SplitValue, Count]\n",
       "Index: []"
      ]
     },
     "execution_count": 58,
     "metadata": {},
     "output_type": "execute_result"
    }
   ],
   "source": [
    "clf.best_estimator_.get_booster().get_split_value_histogram('construction_year')"
   ]
  },
  {
   "cell_type": "code",
   "execution_count": 21,
   "id": "62cf091b-39cb-4cce-a517-19818792e96e",
   "metadata": {},
   "outputs": [
    {
     "ename": "NameError",
     "evalue": "name 'savefig' is not defined",
     "output_type": "error",
     "traceback": [
      "\u001b[31m---------------------------------------------------------------------------\u001b[39m",
      "\u001b[31mNameError\u001b[39m                                 Traceback (most recent call last)",
      "\u001b[36mCell\u001b[39m\u001b[36m \u001b[39m\u001b[32mIn[21]\u001b[39m\u001b[32m, line 9\u001b[39m\n\u001b[32m      5\u001b[39m X, y = shuffle(X_train, y_train, random_state=\u001b[32m42\u001b[39m)\n\u001b[32m      6\u001b[39m fig2 = LearningCurveDisplay.from_estimator(\n\u001b[32m      7\u001b[39m    clf.best_estimator_, X, y, train_sizes=[\u001b[32m500\u001b[39m, \u001b[32m800\u001b[39m, \u001b[32m1000\u001b[39m, \u001b[32m1500\u001b[39m,\u001b[32m2000\u001b[39m,\u001b[32m2500\u001b[39m,\u001b[32m3000\u001b[39m,\u001b[32m3500\u001b[39m,\u001b[32m4000\u001b[39m,\u001b[32m4500\u001b[39m,\u001b[32m5000\u001b[39m,\u001b[32m6000\u001b[39m,\u001b[32m7000\u001b[39m,\u001b[32m8000\u001b[39m,\u001b[32m9000\u001b[39m,\u001b[32m10000\u001b[39m], cv=\u001b[32m5\u001b[39m) \n\u001b[32m----> \u001b[39m\u001b[32m9\u001b[39m \u001b[43msavefig\u001b[49m(os.path.join(out_path, \u001b[33m\"\u001b[39m\u001b[33mlearning_curve.png\u001b[39m\u001b[33m\"\u001b[39m), dpi=\u001b[32m300\u001b[39m, bbox_inches=\u001b[33m'\u001b[39m\u001b[33mtight\u001b[39m\u001b[33m'\u001b[39m)\n",
      "\u001b[31mNameError\u001b[39m: name 'savefig' is not defined"
     ]
    },
    {
     "data": {
      "image/png": "[encoded data removed]",
      "text/plain": [
       "<Figure size 640x480 with 1 Axes>"
      ]
     },
     "metadata": {},
     "output_type": "display_data"
    }
   ],
   "source": [
    "# curves??\n",
    "from sklearn.model_selection import LearningCurveDisplay\n",
    "from sklearn.utils import shuffle\n",
    "\n",
    "X, y = shuffle(X_train, y_train, random_state=42)\n",
    "fig2 = LearningCurveDisplay.from_estimator(\n",
    "   clf.best_estimator_, X, y, train_sizes=[500, 800, 1000, 1500,2000,2500,3000,3500,4000,4500,5000,6000,7000,8000,9000,10000], cv=5) \n",
    "\n",
    "savefig(os.path.join(out_path, \"learning_curve.png\"), dpi=300, bbox_inches='tight')\n"
   ]
  },
  {
   "cell_type": "code",
   "execution_count": 50,
   "id": "042736d0-744c-480a-97a9-e607b236a12b",
   "metadata": {},
   "outputs": [
    {
     "name": "stderr",
     "output_type": "stream",
     "text": [
      "Using 41580 background data samples could cause slower run times. Consider using shap.sample(data, K) or shap.kmeans(data, K) to summarize the background as K samples.\n"
     ]
    }
   ],
   "source": [
    "explainer = shap.KernelExplainer(clf.best_estimator_.predict,X_train)"
   ]
  },
  {
   "cell_type": "code",
   "execution_count": null,
   "id": "ee1142b8-df70-49a4-8c22-741b07e8a698",
   "metadata": {},
   "outputs": [
    {
     "data": {
      "application/vnd.jupyter.widget-view+json": {
       "model_id": "5cdbec233a84492ea76f116d080786f8",
       "version_major": 2,
       "version_minor": 0
      },
      "text/plain": [
       "  0%|          | 0/17820 [00:00<?, ?it/s]"
      ]
     },
     "metadata": {},
     "output_type": "display_data"
    }
   ],
   "source": [
    "shap_values = explainer.shap_values(X_test,nsamples=100)"
   ]
  },
  {
   "cell_type": "code",
   "execution_count": null,
   "id": "b280facf-809f-4a52-9d6c-48ecfabfa1f7",
   "metadata": {},
   "outputs": [],
   "source": [
    "# try this if shap ever works\n",
    "\n",
    "\n",
    "shap.plots.initjs()\n",
    "\n",
    "# visualize all the training set predictions\n",
    "shap.plots.force(shap_values[:500])\n",
    "\n",
    "# create a dependence scatter plot to show the effect of a single feature across the whole dataset\n",
    "shap.plots.scatter(shap_values[:, \"Latitude\"], color=shap_values)\n",
    "\n",
    "# create a dependence scatter plot to show the effect of a single feature across the whole dataset\n",
    "shap.plots.scatter(shap_values[:, \"Latitude\"], color=shap_values)\n",
    "\n"
   ]
  },
  {
   "cell_type": "code",
   "execution_count": 36,
   "id": "1a0b6bd7-11a6-4899-92d0-870c60efec5f",
   "metadata": {},
   "outputs": [
    {
     "ename": "TypeError",
     "evalue": "The shap_values argument must be an Explanation object, Cohorts object, or dictionary of Explanation objects!",
     "output_type": "error",
     "traceback": [
      "\u001b[31m---------------------------------------------------------------------------\u001b[39m",
      "\u001b[31mTypeError\u001b[39m                                 Traceback (most recent call last)",
      "\u001b[36mCell\u001b[39m\u001b[36m \u001b[39m\u001b[32mIn[36]\u001b[39m\u001b[32m, line 1\u001b[39m\n\u001b[32m----> \u001b[39m\u001b[32m1\u001b[39m \u001b[43mshap\u001b[49m\u001b[43m.\u001b[49m\u001b[43mplots\u001b[49m\u001b[43m.\u001b[49m\u001b[43mbar\u001b[49m\u001b[43m(\u001b[49m\u001b[43mshap_values\u001b[49m\u001b[43m)\u001b[49m\n",
      "\u001b[36mFile \u001b[39m\u001b[32m~/coding/water_pumps/venv/lib/python3.12/site-packages/shap/plots/_bar.py:91\u001b[39m, in \u001b[36mbar\u001b[39m\u001b[34m(shap_values, max_display, order, clustering, clustering_cutoff, show_data, ax, show)\u001b[39m\n\u001b[32m     86\u001b[39m \u001b[38;5;28;01melse\u001b[39;00m:\n\u001b[32m     87\u001b[39m     emsg = (\n\u001b[32m     88\u001b[39m         \u001b[33m\"\u001b[39m\u001b[33mThe shap_values argument must be an Explanation object, Cohorts \u001b[39m\u001b[33m\"\u001b[39m\n\u001b[32m     89\u001b[39m         \u001b[33m\"\u001b[39m\u001b[33mobject, or dictionary of Explanation objects!\u001b[39m\u001b[33m\"\u001b[39m\n\u001b[32m     90\u001b[39m     )\n\u001b[32m---> \u001b[39m\u001b[32m91\u001b[39m     \u001b[38;5;28;01mraise\u001b[39;00m \u001b[38;5;167;01mTypeError\u001b[39;00m(emsg)\n\u001b[32m     93\u001b[39m \u001b[38;5;66;03m# unpack our list of Explanation objects we need to plot\u001b[39;00m\n\u001b[32m     94\u001b[39m cohort_labels = \u001b[38;5;28mlist\u001b[39m(cohorts.keys())\n",
      "\u001b[31mTypeError\u001b[39m: The shap_values argument must be an Explanation object, Cohorts object, or dictionary of Explanation objects!"
     ]
    }
   ],
   "source": [
    "shap.plots.bar(shap_values)"
   ]
  },
  {
   "cell_type": "code",
   "execution_count": 31,
   "id": "29247e13-ade3-4ee7-afd7-84cb150599ae",
   "metadata": {},
   "outputs": [],
   "source": [
    "# predict the final on the main data\n",
    "y_all = clf.predict(X)\n",
    "y_out = pd.DataFrame(le.inverse_transform(y_all))\n",
    "train['status_group'] = y_out\n",
    "train.to_csv(os.path.join(data_path, 'predicted.csv'), index=False, columns=['id','status_group'])"
   ]
  },
  {
   "cell_type": "code",
   "execution_count": null,
   "id": "a92730d3-41cb-4b1e-9f04-b00a75029293",
   "metadata": {},
   "outputs": [],
   "source": []
  },
  {
   "cell_type": "code",
   "execution_count": null,
   "id": "414295d0-b291-41b4-900e-0088106bb379",
   "metadata": {},
   "outputs": [],
   "source": []
  },
  {
   "cell_type": "code",
   "execution_count": null,
   "id": "ff6eccaa-93b9-43d4-89f3-ccba52410481",
   "metadata": {},
   "outputs": [],
   "source": []
  },
  {
   "cell_type": "code",
   "execution_count": null,
   "id": "463201b3-ba43-442f-b30b-c26842fa70e6",
   "metadata": {},
   "outputs": [],
   "source": [
    "\n",
    "\n",
    "\n",
    "\n",
    "\n",
    "\n",
    "\n",
    "\n",
    "\n",
    "\n",
    "\n",
    "\n",
    "\n",
    "\n"
   ]
  }
 ],
 "metadata": {
  "kernelspec": {
   "display_name": "myenv2",
   "language": "python",
   "name": "myenv2"
  },
  "language_info": {
   "codemirror_mode": {
    "name": "ipython",
    "version": 3
   },
   "file_extension": ".py",
   "mimetype": "text/x-python",
   "name": "python",
   "nbconvert_exporter": "python",
   "pygments_lexer": "ipython3",
   "version": "3.12.3"
  },
  "widgets": {
   "application/vnd.jupyter.widget-state+json": {
    "state": {
     "087f5c5acd4244c8921c3c4b7e73a90c": {
      "model_module": "@jupyter-widgets/controls",
      "model_module_version": "2.0.0",
      "model_name": "FloatProgressModel",
      "state": {
       "layout": "IPY_MODEL_b916965726cc4fd2b7c5c6505b6b71e5",
       "max": 17820,
       "style": "IPY_MODEL_4a95a6a1455f4a1c813d2b1b5de5952f",
       "value": 2
      }
     },
     "22f7f08f34b24e6a9e0d40dc67ed0858": {
      "model_module": "@jupyter-widgets/base",
      "model_module_version": "2.0.0",
      "model_name": "LayoutModel",
      "state": {}
     },
     "29a008fba02047bf938b40e776194407": {
      "model_module": "@jupyter-widgets/base",
      "model_module_version": "2.0.0",
      "model_name": "LayoutModel",
      "state": {}
     },
     "38665b828da64442baee98cc4c317813": {
      "model_module": "@jupyter-widgets/controls",
      "model_module_version": "2.0.0",
      "model_name": "HTMLModel",
      "state": {
       "layout": "IPY_MODEL_22f7f08f34b24e6a9e0d40dc67ed0858",
       "style": "IPY_MODEL_c3aa6e99790f4a59b7eefbeddabf6666",
       "value": " 2/17820 [00:23&lt;58:26:08, 11.81s/it]"
      }
     },
     "4a95a6a1455f4a1c813d2b1b5de5952f": {
      "model_module": "@jupyter-widgets/controls",
      "model_module_version": "2.0.0",
      "model_name": "ProgressStyleModel",
      "state": {
       "description_width": ""
      }
     },
     "4c594e6b337f4d0298cdc4dc357d379d": {
      "model_module": "@jupyter-widgets/base",
      "model_module_version": "2.0.0",
      "model_name": "LayoutModel",
      "state": {}
     },
     "5cdbec233a84492ea76f116d080786f8": {
      "model_module": "@jupyter-widgets/controls",
      "model_module_version": "2.0.0",
      "model_name": "HBoxModel",
      "state": {
       "children": [
        "IPY_MODEL_84dd86c7cbfa4c8fb31511a91efffc0f",
        "IPY_MODEL_087f5c5acd4244c8921c3c4b7e73a90c",
        "IPY_MODEL_38665b828da64442baee98cc4c317813"
       ],
       "layout": "IPY_MODEL_4c594e6b337f4d0298cdc4dc357d379d"
      }
     },
     "84dd86c7cbfa4c8fb31511a91efffc0f": {
      "model_module": "@jupyter-widgets/controls",
      "model_module_version": "2.0.0",
      "model_name": "HTMLModel",
      "state": {
       "layout": "IPY_MODEL_29a008fba02047bf938b40e776194407",
       "style": "IPY_MODEL_9a90957552f84f9a8708659af57eb6bd",
       "value": "  0%"
      }
     },
     "9a90957552f84f9a8708659af57eb6bd": {
      "model_module": "@jupyter-widgets/controls",
      "model_module_version": "2.0.0",
      "model_name": "HTMLStyleModel",
      "state": {
       "description_width": "",
       "font_size": null,
       "text_color": null
      }
     },
     "b916965726cc4fd2b7c5c6505b6b71e5": {
      "model_module": "@jupyter-widgets/base",
      "model_module_version": "2.0.0",
      "model_name": "LayoutModel",
      "state": {}
     },
     "c3aa6e99790f4a59b7eefbeddabf6666": {
      "model_module": "@jupyter-widgets/controls",
      "model_module_version": "2.0.0",
      "model_name": "HTMLStyleModel",
      "state": {
       "description_width": "",
       "font_size": null,
       "text_color": null
      }
     }
    },
    "version_major": 2,
    "version_minor": 0
   }
  }
 },
 "nbformat": 4,
 "nbformat_minor": 5
}
