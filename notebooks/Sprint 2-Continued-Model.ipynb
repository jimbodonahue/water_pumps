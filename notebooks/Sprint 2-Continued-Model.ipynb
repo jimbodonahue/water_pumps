{
 "cells": [
  {
   "cell_type": "code",
   "execution_count": 1,
   "id": "daec0a87",
   "metadata": {},
   "outputs": [],
   "source": [
    "import pandas as pd\n",
    "import numpy as np\n",
    "import os\n",
    "import matplotlib.pyplot as plt\n",
    "import seaborn as sns\n",
    "from sklearn.model_selection import cross_val_score\n",
    "from sklearn.preprocessing import LabelEncoder\n",
    "from sklearn.preprocessing import StandardScaler\n",
    "from sklearn.pipeline import Pipeline\n",
    "from sklearn.model_selection import GridSearchCV\n",
    "from sklearn.linear_model import LogisticRegression\n",
    "from sklearn.model_selection import train_test_split\n",
    "from sklearn.metrics import classification_report, confusion_matrix\n",
    "import joblib"
   ]
  },
  {
   "cell_type": "code",
   "execution_count": 2,
   "id": "7e1e17e2",
   "metadata": {},
   "outputs": [
    {
     "name": "stdout",
     "output_type": "stream",
     "text": [
      "Files successfully loaded and merged!\n"
     ]
    }
   ],
   "source": [
    "current_dir = os.getcwd()\n",
    "parent_dir = os.path.dirname(current_dir)\n",
    "data_path = os.path.join(parent_dir, 'data')\n",
    "out_path = os.path.join(parent_dir, 'outputs')     # For the output\n",
    "\n",
    "# Read the files\n",
    "train = pd.read_csv(os.path.join(data_path, 'feature_engineered_data_final_v3.csv'))\n",
    "labels = pd.read_csv(os.path.join(data_path, 'train_labels.csv'))\n",
    "\n",
    "# Drop status_group if it already exists in train\n",
    "if 'status_group' in train.columns:\n",
    "    train = train.drop(columns=['status_group'])\n",
    "# Merge training labels\n",
    "df = pd.merge(train, labels, on='id')\n",
    "print('Files successfully loaded and merged!')\n"
   ]
  },
  {
   "cell_type": "code",
   "execution_count": 3,
   "id": "20f51946",
   "metadata": {},
   "outputs": [],
   "source": [
    "# Drop status_group if it already exists in train\n",
    "if 'status_group' in train.columns:\n",
    "    train = train.drop(columns=['status_group'])\n",
    "df = train.merge(labels, on='id')\n",
    "df = df.drop(columns=['region','lga', 'extraction_type', 'management']) #for now\n",
    "df['water_quality_numeric'] = df['water_quality_numeric'].fillna(0)\n",
    "df['water_risk_score_log'] = df['water_risk_score_log'].fillna(0)\n"
   ]
  },
  {
   "cell_type": "code",
   "execution_count": 4,
   "id": "19fc51c3",
   "metadata": {},
   "outputs": [],
   "source": [
    "#all categorical features (excluding target)\n",
    "categorical_cols = df.select_dtypes(include='object').columns.tolist()\n",
    "categorical_cols = [col for col in categorical_cols if col != 'status_group']\n",
    "\n",
    "# One-hot encode medium-cardinality features (3 to 10 unique values)\n",
    "onehot_cols = [col for col in categorical_cols if 2 < df[col].nunique() <= 10]\n",
    "df_encoded = pd.get_dummies(df, columns=onehot_cols, drop_first=True)\n",
    "\n",
    "# Label encode low-cardinality features (≤ 2 unique values)\n",
    "label_enc_cols = [col for col in categorical_cols if df[col].nunique() <= 2]\n",
    "\n",
    "label_encoders = {}\n",
    "for col in label_enc_cols:\n",
    "    le = LabelEncoder()\n",
    "    df_encoded[col] = le.fit_transform(df[col].astype(str)) \n",
    "    label_encoders[col] = le"
   ]
  },
  {
   "cell_type": "code",
   "execution_count": 5,
   "id": "6f5c254a",
   "metadata": {},
   "outputs": [
    {
     "name": "stdout",
     "output_type": "stream",
     "text": [
      "Updated dataset saved as final_data.csv\n"
     ]
    }
   ],
   "source": [
    "df.to_csv(os.path.join(data_path, 'final_data.csv'), index=False)\n",
    "print(\"Updated dataset saved as final_data.csv\")"
   ]
  },
  {
   "cell_type": "code",
   "execution_count": 6,
   "id": "351a68b6",
   "metadata": {},
   "outputs": [],
   "source": [
    "# Encode target labels\n",
    "le = LabelEncoder()\n",
    "y_encoded = le.fit_transform(df['status_group']) \n",
    "\n",
    "leak_cols = [col for col in df_encoded.columns if 'status_group_' in col or 'status_group.' in col]\n",
    "df_encoded = df_encoded.drop(columns=leak_cols)\n",
    "\n",
    "# Define features and target\n",
    "X = df_encoded.drop(columns=['status_group','id'])\n",
    "y = y_encoded"
   ]
  },
  {
   "cell_type": "code",
   "execution_count": 7,
   "id": "f083cc0c",
   "metadata": {},
   "outputs": [],
   "source": [
    "X_train, X_test, y_train, y_test = train_test_split(\n",
    "    X, y, test_size=0.2, stratify=y, random_state=42\n",
    ")"
   ]
  },
  {
   "cell_type": "code",
   "execution_count": 8,
   "id": "d83288a5",
   "metadata": {},
   "outputs": [
    {
     "name": "stdout",
     "output_type": "stream",
     "text": [
      " Type: <class 'sklearn.model_selection._search.GridSearchCV'>\n",
      " Best Estimator: Pipeline(steps=[('scaler', StandardScaler()),\n",
      "                ('logreg',\n",
      "                 LogisticRegression(C=0.01, max_iter=1000, solver='saga'))])\n"
     ]
    },
    {
     "data": {
      "text/plain": [
       "['best_logistic_model.pkl']"
      ]
     },
     "execution_count": 8,
     "metadata": {},
     "output_type": "execute_result"
    }
   ],
   "source": [
    "# pipeline\n",
    "pipeline = Pipeline([\n",
    "    ('scaler', StandardScaler()),\n",
    "    ('logreg', LogisticRegression(max_iter=1000))\n",
    "])\n",
    "\n",
    "# Parameter grid\n",
    "param_grid = {\n",
    "    'logreg__C': [0.01, 0.1],\n",
    "    'logreg__penalty': ['l2'],\n",
    "    'logreg__solver': ['lbfgs', 'saga']\n",
    "}\n",
    "\n",
    "# Grid search\n",
    "grid_search = GridSearchCV(pipeline, param_grid, cv=5, scoring='accuracy')\n",
    "grid_search.fit(X_train, y_train)  # this is essential\n",
    "\n",
    "# Check best_estimator_\n",
    "print(\" Type:\", type(grid_search))\n",
    "print(\" Best Estimator:\", grid_search.best_estimator_)\n",
    "\n",
    "# Save to file\n",
    "joblib.dump(grid_search.best_estimator_, 'best_logistic_model.pkl')\n"
   ]
  },
  {
   "cell_type": "code",
   "execution_count": 9,
   "id": "e3aed221",
   "metadata": {},
   "outputs": [
    {
     "name": "stdout",
     "output_type": "stream",
     "text": [
      " Classification Report on Test Set:\n",
      "                         precision    recall  f1-score   support\n",
      "\n",
      "             functional       0.71      0.91      0.79      6278\n",
      "functional needs repair       0.62      0.03      0.06       786\n",
      "         non functional       0.78      0.60      0.68      4454\n",
      "\n",
      "               accuracy                           0.73     11518\n",
      "              macro avg       0.71      0.51      0.51     11518\n",
      "           weighted avg       0.73      0.73      0.70     11518\n",
      "\n",
      " Confusion Matrix:\n",
      "[[5686    5  587]\n",
      " [ 610   25  151]\n",
      " [1750   10 2694]]\n"
     ]
    }
   ],
   "source": [
    "# Evaluate on the test set\n",
    "\n",
    "y_test_pred = grid_search.best_estimator_.predict(X_test)\n",
    "\n",
    "print(\" Classification Report on Test Set:\")\n",
    "print(classification_report(y_test, y_test_pred, target_names=le.classes_))\n",
    "\n",
    "print(\" Confusion Matrix:\")\n",
    "print(confusion_matrix(y_test, y_test_pred))"
   ]
  },
  {
   "cell_type": "code",
   "execution_count": 10,
   "id": "b1bd46e9",
   "metadata": {},
   "outputs": [
    {
     "name": "stderr",
     "output_type": "stream",
     "text": [
      "/home/jim/coding/water_pumps/venv/lib/python3.12/site-packages/sklearn/svm/_base.py:1249: ConvergenceWarning: Liblinear failed to converge, increase the number of iterations.\n",
      "  warnings.warn(\n"
     ]
    }
   ],
   "source": [
    "from sklearn import svm\n",
    "from sklearn.naive_bayes import GaussianNB\n",
    "from sklearn import neighbors\n",
    "from sklearn import tree\n",
    "\n",
    "mnnb = GaussianNB()\n",
    "result_mnnb = mnnb.fit(X_train, y_train)\n",
    "guess_mnnb = cross_val_score(mnnb, X, y, cv=2)\n",
    "\n",
    "knn = neighbors.KNeighborsClassifier(n_neighbors=5)\n",
    "result_knn = knn.fit(X_train, y_train)\n",
    "guess_knn = cross_val_score(knn, X, y, cv=2)\n",
    "\n",
    "tree = tree.DecisionTreeClassifier()\n",
    "result_tree = tree.fit(X_train, y_train)\n",
    "guess_tree = cross_val_score(tree, X, y, cv=2)\n",
    "\n",
    "svc = svm.LinearSVC(loss='hinge',tol=0.001, max_iter=500)\n",
    "clf = svm.SVC(decision_function_shape='ovr')\n",
    "result_svm = svc.fit(X_train, y_train)\n",
    "guess_svm = cross_val_score(clf, X, y, cv=2)\n"
   ]
  },
  {
   "cell_type": "code",
   "execution_count": 11,
   "id": "9156b3a0-2986-4d98-9827-5e582bc40004",
   "metadata": {},
   "outputs": [
    {
     "name": "stdout",
     "output_type": "stream",
     "text": [
      "0.56 accuracy with a standard deviation of 0.01\n",
      "0.53 accuracy with a standard deviation of 0.02\n",
      "0.69 accuracy with a standard deviation of 0.00\n",
      "0.74 accuracy with a standard deviation of 0.00\n"
     ]
    }
   ],
   "source": [
    "varlist = [guess_svm, guess_mnnb, guess_knn, guess_tree]\n",
    "for i in varlist:\n",
    "    print(\"%0.2f accuracy with a standard deviation of %0.2f\" % (i.mean(), i.std()))"
   ]
  },
  {
   "cell_type": "code",
   "execution_count": 12,
   "id": "30e4a415-1a5d-4ffa-9dd8-9d526f85ab8f",
   "metadata": {},
   "outputs": [
    {
     "ename": "SyntaxError",
     "evalue": "unmatched ')' (1566024704.py, line 8)",
     "output_type": "error",
     "traceback": [
      "  \u001b[36mCell\u001b[39m\u001b[36m \u001b[39m\u001b[32mIn[12]\u001b[39m\u001b[32m, line 8\u001b[39m\n\u001b[31m    \u001b[39m\u001b[31mprint'(~~~~~~~~~~~~~~~~~~~~~~~~~~~~~~~~~~')\u001b[39m\n                                              ^\n\u001b[31mSyntaxError\u001b[39m\u001b[31m:\u001b[39m unmatched ')'\n"
     ]
    }
   ],
   "source": [
    "# predict\n",
    "pred_svm = svc.predict(X_test)\n",
    "pred_mnnb = mnnb.predict(X_test)\n",
    "pred_knn = knn.predict(X_test)\n",
    "pred_tree = tree.predict(X_test)\n",
    "print(\" Confusion Matrix:\")\n",
    "print(confusion_matrix(y_test, pred_svm))\n",
    "print'(~~~~~~~~~~~~~~~~~~~~~~~~~~~~~~~~~~')\n",
    "print(confusion_matrix(y_test, pred_mnnb))\n",
    "print'(~~~~~~~~~~~~~~~~~~~~~~~~~~~~~~~~~~')\n",
    "print(confusion_matrix(y_test, pred_knn))\n",
    "print'(~~~~~~~~~~~~~~~~~~~~~~~~~~~~~~~~~~')\n",
    "print(confusion_matrix(y_test, pred_tree))"
   ]
  },
  {
   "cell_type": "code",
   "execution_count": null,
   "id": "3c98c355-e103-45d7-984c-db246826ca13",
   "metadata": {},
   "outputs": [],
   "source": []
  }
 ],
 "metadata": {
  "kernelspec": {
   "display_name": "Python (water_pumps)",
   "language": "python",
   "name": "water_pumps"
  },
  "language_info": {
   "codemirror_mode": {
    "name": "ipython",
    "version": 3
   },
   "file_extension": ".py",
   "mimetype": "text/x-python",
   "name": "python",
   "nbconvert_exporter": "python",
   "pygments_lexer": "ipython3",
   "version": "3.10.0"
  }
 },
 "nbformat": 4,
 "nbformat_minor": 5
}
